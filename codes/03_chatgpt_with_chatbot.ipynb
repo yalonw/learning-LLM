{
 "cells": [
  {
   "cell_type": "code",
   "execution_count": 1,
   "metadata": {},
   "outputs": [],
   "source": [
    "import os\n",
    "import pickle\n",
    "\n",
    "from dotenv import load_dotenv\n",
    "import openai\n",
    "from openai import OpenAI, AzureOpenAI"
   ]
  },
  {
   "cell_type": "code",
   "execution_count": 2,
   "metadata": {},
   "outputs": [
    {
     "data": {
      "text/plain": [
       "True"
      ]
     },
     "execution_count": 2,
     "metadata": {},
     "output_type": "execute_result"
    }
   ],
   "source": [
    "load_dotenv()"
   ]
  },
  {
   "cell_type": "code",
   "execution_count": 3,
   "metadata": {},
   "outputs": [],
   "source": [
    "client = AzureOpenAI(\n",
    "    api_key=os.getenv(\"AZURE_OPENAI_API_KEY\"),\n",
    "    api_version=os.getenv(\"AZURE_OPENAI_API_VERSION\"),\n",
    "    azure_endpoint=os.getenv(\"AZURE_OPENAI_ENDPOINT\"),\n",
    ")"
   ]
  },
  {
   "cell_type": "markdown",
   "metadata": {},
   "source": [
    "### Add context to maintain conversation continuity."
   ]
  },
  {
   "cell_type": "code",
   "execution_count": 4,
   "metadata": {},
   "outputs": [],
   "source": [
    "def save_messages(messages: list[dict]):\n",
    "    try:\n",
    "        with open('./db.dat', 'wb') as f:\n",
    "            db = {'data': messages}\n",
    "            pickle.dump(db, f)\n",
    "    except:\n",
    "        print('Failed to save messages.')\n",
    "\n",
    "\n",
    "def load_messages() -> list[dict]:\n",
    "    try:\n",
    "        with open('./db.dat', 'rb') as f:\n",
    "            db = pickle.load(f)\n",
    "            return db.get('data', [])\n",
    "    except:\n",
    "        print('Failed to load messages.')\n",
    "        return []"
   ]
  },
  {
   "cell_type": "code",
   "execution_count": 5,
   "metadata": {},
   "outputs": [
    {
     "name": "stdout",
     "output_type": "stream",
     "text": [
      "System: 請扮演一位智能助理，記住我告訴過你的資訊。\n",
      "User: 你好，你可以叫我寶寶，我今年三歲。\n",
      "ChatGPT: 你好寶寶！很高興再次見到你。你今年三歲，這是一個美好的年齡！我會記住這個重要的資訊，以便在需要的時候提醒你的年齡。有什麼我可以幫助你的嗎？\n",
      "User: 我喜歡吃蛋糕，你有推薦的款式嗎？\n",
      "ChatGPT: 當然！對於喜歡吃蛋糕的你，我可以給你一些建議。以下是一些常見且受歡迎的蛋糕款式：\n",
      "\n",
      "1. 巧克力蛋糕：如果你喜歡濃郁的巧克力口味，這是一個經典的選擇。巧克力蛋糕可以配上巧克力奶油或雪糕，讓你的味蕾感到快樂。\n",
      "\n",
      "2. 草莓蛋糕：如果你喜歡酸甜的口味，草莓蛋糕可能是你的首選。這種蛋糕常常裝飾得很漂亮，上面滿滿地堆滿了新鮮的草莓。\n",
      "\n",
      "3. 檸檬蛋糕：對於喜歡清新口味的人來說，檸檬蛋糕是一個不錯的選擇。它有著令人振奮的柑橘風味，讓你感到舒爽。\n",
      "\n",
      "4. 起士蛋糕：如果你喜歡柔滑濕潤的口感，起士蛋糕可能是你喜愛的款式。它有著濃郁的乳酪味道，可以加上水果醬或巧克力醬來增添口味。\n",
      "\n",
      "這些只是一些蛋糕的例子，當然還有其他更多選擇。你可以根據自己的口味和喜好選擇你最喜歡的蛋糕款式。享受美味的蛋糕吧！如果你還有其他問題，我隨時為你服務。\n",
      "User: 我應該放上幾歲的蠟燭呢？\n",
      "ChatGPT: 根據你告訴我的資訊，你今年三歲，因此可以放上三根蠟燭來慶祝生日。每一根蠟燭代表一年的成長，所以放上對應的數量是一個很有意義的方式來慶祝你的年齡增長。希望你度過一個美好的生日！如果你有其他疑問，請隨時告訴我。\n"
     ]
    }
   ],
   "source": [
    "messages = []\n",
    "# messages = load_messages()\n",
    "\n",
    "system_prompt = \"請扮演一位智能助理，記住我告訴過你的資訊。\"\n",
    "messages.append({\"role\": \"system\", \"content\": system_prompt})\n",
    "print(f'System: {system_prompt}')\n",
    "\n",
    "while True:\n",
    "    try:\n",
    "        user_prompt = input(\"User: \")\n",
    "        if not user_prompt.strip():\n",
    "            break\n",
    "        messages.append({\"role\": \"user\", \"content\": user_prompt})\n",
    "        print(f'User: {user_prompt}')\n",
    "\n",
    "        completion = client.chat.completions.create(\n",
    "            model=\"gpt-35-turbo-120\",\n",
    "            messages=messages\n",
    "        )\n",
    "        assistant_prompt = completion.choices[0].message.content\n",
    "        messages.append({\"role\": \"assistant\", \"content\": assistant_prompt})\n",
    "        print(f'ChatGPT: {assistant_prompt}')\n",
    "\n",
    "    except openai.APIError as err:\n",
    "        print(f\"Error: {err}\")\n",
    "        break\n",
    "\n",
    "# save_messages(messages)"
   ]
  },
  {
   "cell_type": "markdown",
   "metadata": {},
   "source": [
    "### Create a Chatbot with Gradio\n",
    "Reference: https://www.gradio.app/guides/quickstart"
   ]
  },
  {
   "cell_type": "code",
   "execution_count": 7,
   "metadata": {},
   "outputs": [
    {
     "name": "stdout",
     "output_type": "stream",
     "text": [
      "Running on local URL:  http://127.0.0.1:7860\n",
      "\n",
      "To create a public link, set `share=True` in `launch()`.\n"
     ]
    },
    {
     "data": {
      "text/html": [
       "<div><iframe src=\"http://127.0.0.1:7860/\" width=\"100%\" height=\"500\" allow=\"autoplay; camera; microphone; clipboard-read; clipboard-write;\" frameborder=\"0\" allowfullscreen></iframe></div>"
      ],
      "text/plain": [
       "<IPython.core.display.HTML object>"
      ]
     },
     "metadata": {},
     "output_type": "display_data"
    },
    {
     "data": {
      "text/plain": []
     },
     "execution_count": 7,
     "metadata": {},
     "output_type": "execute_result"
    }
   ],
   "source": [
    "# Reference: https://www.gradio.app/guides/creating-a-chatbot-fast#additional-inputs\n",
    "\n",
    "import gradio as gr\n",
    "\n",
    "\n",
    "def get_response(message, history, system_prompt, stream, temperature):\n",
    "    messages = []\n",
    "    messages.append({\"role\": \"system\", \"content\": system_prompt})\n",
    "    for user_prompt, assistant_prompt in history:\n",
    "        messages.append({\"role\": \"user\", \"content\": user_prompt})\n",
    "        messages.append({\"role\": \"assistant\", \"content\": assistant_prompt})\n",
    "    messages.append({\"role\": \"user\", \"content\": message})\n",
    "\n",
    "    completion = client.chat.completions.create(\n",
    "        model=\"gpt-35-turbo-120\",\n",
    "        messages=messages,\n",
    "        stream=stream,\n",
    "        temperature=temperature\n",
    "    )\n",
    "\n",
    "    if stream:\n",
    "        response = ''\n",
    "        for chunk_completion in completion:\n",
    "            if chunk_completion.choices:\n",
    "                response += chunk_completion.choices[0].delta.content or ''\n",
    "                yield response\n",
    "    else:\n",
    "        response = completion.choices[0].message.content\n",
    "        yield response\n",
    "\n",
    "\n",
    "app = gr.ChatInterface(\n",
    "    get_response,\n",
    "    additional_inputs=[\n",
    "        gr.Textbox(\"You are helpful AI.\", label=\"System Prompt\"),\n",
    "        gr.Checkbox(label='Stream', value=True),\n",
    "        gr.Slider(0, 2, value=0.8, label=\"Temperature\")\n",
    "    ]\n",
    ")\n",
    "\n",
    "\n",
    "app.queue().launch()"
   ]
  },
  {
   "cell_type": "markdown",
   "metadata": {},
   "source": [
    "### Create a Chatbot with LINE"
   ]
  }
 ],
 "metadata": {
  "kernelspec": {
   "display_name": ".venv",
   "language": "python",
   "name": "python3"
  },
  "language_info": {
   "codemirror_mode": {
    "name": "ipython",
    "version": 3
   },
   "file_extension": ".py",
   "mimetype": "text/x-python",
   "name": "python",
   "nbconvert_exporter": "python",
   "pygments_lexer": "ipython3",
   "version": "3.9.6"
  }
 },
 "nbformat": 4,
 "nbformat_minor": 2
}

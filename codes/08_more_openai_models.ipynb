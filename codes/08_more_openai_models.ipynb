{
 "cells": [
  {
   "cell_type": "markdown",
   "metadata": {},
   "source": [
    "### More OpenAI Models\n",
    "Reference: https://platform.openai.com/docs/models"
   ]
  },
  {
   "cell_type": "code",
   "execution_count": null,
   "metadata": {},
   "outputs": [],
   "source": [
    "import os\n",
    "\n",
    "from dotenv import load_dotenv\n",
    "\n",
    "from openai import OpenAI, AzureOpenAI"
   ]
  },
  {
   "cell_type": "code",
   "execution_count": null,
   "metadata": {},
   "outputs": [],
   "source": [
    "load_dotenv()"
   ]
  },
  {
   "cell_type": "code",
   "execution_count": null,
   "metadata": {},
   "outputs": [],
   "source": [
    "client = AzureOpenAI(\n",
    "    api_version=os.getenv(\"OPENAI_API_VERSION\"),\n",
    "    api_key=os.getenv(\"AZURE_OPENAI_API_KEY\"),\n",
    "    azure_endpoint=os.getenv(\"AZURE_OPENAI_ENDPOINT\"),\n",
    ")"
   ]
  },
  {
   "cell_type": "markdown",
   "metadata": {},
   "source": [
    "#### DALL·E (文字生圖片)\n",
    "\n",
    "DALL·E is a AI system that can create realistic images and art from a description in natural language.  \n",
    "Reference: https://platform.openai.com/docs/models/dall-e"
   ]
  },
  {
   "cell_type": "code",
   "execution_count": null,
   "metadata": {},
   "outputs": [],
   "source": [
    "prompt = '一個有著狐狸耳朵的少女，色彩豐富的、動漫畫風'\n",
    "\n",
    "completion = client.images.generate(\n",
    "    prompt=prompt,\n",
    "    model='dall-e-3',\n",
    "    n=1,\n",
    "    quality='hd',\n",
    "    size='1024x1024',\n",
    "    style='natural',\n",
    ")\n",
    "\n",
    "image_url = completion.data[0].url\n",
    "image_url"
   ]
  },
  {
   "cell_type": "markdown",
   "metadata": {},
   "source": [
    "#### Whisper (影音轉字幕)\n",
    "\n",
    "Whisper is a general-purpose speech recognition model.  \n",
    "Reference: https://platform.openai.com/docs/models/whisper"
   ]
  },
  {
   "cell_type": "code",
   "execution_count": null,
   "metadata": {},
   "outputs": [],
   "source": [
    "from pytubefix import YouTube\n",
    "\n",
    "# Download the video\n",
    "url = 'https://www.youtube.com/watch?v=vgYi3Wr7v_g'\n",
    "yt = YouTube(url)\n",
    "ys = yt.streams.get_highest_resolution()\n",
    "audio_filename = yt.title\n",
    "audio_filepath = ys.download(output_path=f'../data')\n",
    "audio_filepath"
   ]
  },
  {
   "cell_type": "code",
   "execution_count": null,
   "metadata": {},
   "outputs": [],
   "source": [
    "with open(audio_filepath, \"rb\") as file:\n",
    "    transcription = client.audio.transcriptions.create(\n",
    "        file=file,\n",
    "        model=\"whisper\",\n",
    "        response_format='srt'\n",
    "    )\n",
    "\n",
    "subtitle_filepath = f\"../data/{audio_filename}.srt\"\n",
    "with open(subtitle_filepath, \"w\") as file:\n",
    "    file.write(transcription)\n",
    "\n",
    "print(transcription)"
   ]
  },
  {
   "cell_type": "markdown",
   "metadata": {},
   "source": [
    "#### TTS (文本轉音訊)\n",
    "\n",
    "TTS is an AI model that converts text to natural sounding spoken text.   \n",
    "Reference: https://platform.openai.com/docs/models/tts"
   ]
  },
  {
   "cell_type": "code",
   "execution_count": null,
   "metadata": {},
   "outputs": [],
   "source": [
    "with open(subtitle_filepath, \"r\") as f:\n",
    "    content = f.readlines()\n",
    "\n",
    "subtitles = ''\n",
    "for idx in range(2, len(content), 4):\n",
    "  subtitles += content[idx].strip() + ' '\n",
    "\n",
    "completion = client.audio.speech.create(\n",
    "    input=subtitles,\n",
    "    model=\"tts-1\",\n",
    "    voice=\"alloy\",\n",
    "    response_format='mp3'\n",
    ")\n",
    "\n",
    "speech_filepath = f\"../data/{audio_filename}.mp3\"\n",
    "completion.write_to_file(speech_filepath)\n",
    "speech_filepath"
   ]
  }
 ],
 "metadata": {
  "kernelspec": {
   "display_name": ".venv",
   "language": "python",
   "name": "python3"
  },
  "language_info": {
   "codemirror_mode": {
    "name": "ipython",
    "version": 3
   },
   "file_extension": ".py",
   "mimetype": "text/x-python",
   "name": "python",
   "nbconvert_exporter": "python",
   "pygments_lexer": "ipython3",
   "version": "3.9.6"
  }
 },
 "nbformat": 4,
 "nbformat_minor": 2
}

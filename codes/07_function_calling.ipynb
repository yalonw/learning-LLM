{
 "cells": [
  {
   "cell_type": "code",
   "execution_count": 2,
   "metadata": {},
   "outputs": [],
   "source": [
    "import os\n",
    "import json\n",
    "\n",
    "from dotenv import load_dotenv\n",
    "import requests\n",
    "\n",
    "from openai import OpenAI, AzureOpenAI\n",
    "from openai.types.chat import ChatCompletion"
   ]
  },
  {
   "cell_type": "code",
   "execution_count": 3,
   "metadata": {},
   "outputs": [
    {
     "data": {
      "text/plain": [
       "True"
      ]
     },
     "execution_count": 3,
     "metadata": {},
     "output_type": "execute_result"
    }
   ],
   "source": [
    "load_dotenv()"
   ]
  },
  {
   "cell_type": "markdown",
   "metadata": {},
   "source": [
    "### [Function/Tool Calling] Connect LLM to external tools.\n",
    "\n",
    "![tool-calling-flow](https://python.langchain.com/v0.2/assets/images/tool_calling_flow-ead8d93a8b69c88e3076457ed28f41ae.png)\n",
    "Reference: https://platform.openai.com/docs/guides/function-calling"
   ]
  },
  {
   "cell_type": "code",
   "execution_count": 4,
   "metadata": {},
   "outputs": [],
   "source": [
    "client = AzureOpenAI(\n",
    "    api_version=os.getenv(\"OPENAI_API_VERSION\"),\n",
    "    api_key=os.getenv(\"AZURE_OPENAI_API_KEY\"),\n",
    "    azure_endpoint=os.getenv(\"AZURE_OPENAI_ENDPOINT\"),\n",
    ")"
   ]
  },
  {
   "cell_type": "code",
   "execution_count": 5,
   "metadata": {},
   "outputs": [],
   "source": [
    "def get_chatgpt_response(messages: list[dict] = [], tools: list[dict] = None,\n",
    "                         response_format: str = 'text') -> ChatCompletion:\n",
    "    completion = client.chat.completions.create(\n",
    "        model=\"gpt-4-0409-60k\",\n",
    "        messages=messages,\n",
    "        response_format={'type': response_format},\n",
    "        tools=tools,\n",
    "        tool_choice='auto' if tools else None,\n",
    "    )\n",
    "    return completion"
   ]
  },
  {
   "cell_type": "code",
   "execution_count": 6,
   "metadata": {},
   "outputs": [],
   "source": [
    "def google_search(query: str) -> list[dict]:\n",
    "    \"\"\" Google search API\n",
    "\n",
    "        Return a dict of custom search result, see more detail at\n",
    "        https://developers.google.com/custom-search/v1/reference/rest/v1/Search#result\n",
    "    \"\"\"\n",
    "    url = 'https://www.googleapis.com/customsearch/v1'\n",
    "    params = {\n",
    "        'q': query,\n",
    "        'key': os.getenv(\"GOOGLE_SEARCH_API_KEY\"),\n",
    "        'cx': os.getenv(\"GOOGLE_SEARCH_ENGINE_ID\"),\n",
    "    }\n",
    "    response = requests.get(url, params=params)\n",
    "    results = response.json().get('items', [])\n",
    "    return results"
   ]
  },
  {
   "cell_type": "code",
   "execution_count": 7,
   "metadata": {},
   "outputs": [],
   "source": [
    "def get_google_search_content(search_target: str, verbose: bool = False) -> str:\n",
    "    print(f\"網路搜尋目標: {search_target}\")\n",
    "    content = \"以下為已發生的事實：\\n\\n\"\n",
    "    search_results = google_search(search_target)\n",
    "    for item in search_results:\n",
    "        content += f\"標題：{item['title']}\\n摘要：{item['snippet']}\\n\\n\"\n",
    "    content += \"請依照上述事實回答以下問題。\\n\"\n",
    "\n",
    "    print(f'網路搜尋結果: \\n{content}')\n",
    "    return content"
   ]
  },
  {
   "cell_type": "markdown",
   "metadata": {},
   "source": [
    "#### 1. 用 prompt，讓 AI 決定是否要網路搜尋"
   ]
  },
  {
   "cell_type": "code",
   "execution_count": 8,
   "metadata": {},
   "outputs": [],
   "source": [
    "search_prompt_template = \"\"\"\n",
    "    如果我想知道以下這件事, 請確認是否需要網路搜尋才做得到?\n",
    "    {user_question}\n",
    "\n",
    "    如果需要, 請以下列 JSON 格式回答我, 除了 JSON 格式資料外, 不要加上額外資訊, 就算你知道答案, 也不要回覆:\n",
    "    ``` {{\"search\": \"Y\", \"keyword\": \"你建議的搜尋關鍵字\"}} ```\n",
    "\n",
    "    如果不需要, 請以下列 JSON 格式回答我:\n",
    "    ``` {{\"search\": \"N\", \"keyword\": \"\"}} ```\n",
    "\"\"\""
   ]
  },
  {
   "cell_type": "code",
   "execution_count": 9,
   "metadata": {},
   "outputs": [],
   "source": [
    "def get_response(user_question: str, assistant_prompt: str = '') -> dict:\n",
    "    messages = [\n",
    "        {\"role\": \"system\", \"content\": \"請用 JSON 回覆\"},\n",
    "        *([{\"role\": \"assistant\", \"content\": assistant_prompt}] if assistant_prompt else []),\n",
    "        {\"role\": \"user\", \"content\": search_prompt_template.format(user_question=user_question)},\n",
    "    ]\n",
    "    completion = get_chatgpt_response(messages, response_format='json_object')\n",
    "    response: dict = json.loads(completion.choices[0].message.content)\n",
    "    return response"
   ]
  },
  {
   "cell_type": "code",
   "execution_count": 10,
   "metadata": {},
   "outputs": [
    {
     "data": {
      "text/plain": [
       "{'search': 'Y', 'keyword': '2023 金馬影后'}"
      ]
     },
     "execution_count": 10,
     "metadata": {},
     "output_type": "execute_result"
    }
   ],
   "source": [
    "# 情境一: 需要網路搜尋\n",
    "question = '2023 金馬影后是誰?'\n",
    "response = get_response(question)\n",
    "response"
   ]
  },
  {
   "cell_type": "code",
   "execution_count": 11,
   "metadata": {},
   "outputs": [
    {
     "data": {
      "text/plain": [
       "{'search': 'N', 'keyword': ''}"
      ]
     },
     "execution_count": 11,
     "metadata": {},
     "output_type": "execute_result"
    }
   ],
   "source": [
    "# 情境二: 可能不需要網路搜尋\n",
    "question = '第一次世界大戰發生在哪一年?'\n",
    "response = get_response(question)\n",
    "response"
   ]
  },
  {
   "cell_type": "code",
   "execution_count": 12,
   "metadata": {},
   "outputs": [
    {
     "data": {
      "text/plain": [
       "{'search': 'N', 'keyword': ''}"
      ]
     },
     "execution_count": 12,
     "metadata": {},
     "output_type": "execute_result"
    }
   ],
   "source": [
    "# 情境二: 可能不需要網路搜尋\n",
    "question = '第一個登上月球的人是誰?'\n",
    "response = get_response(question)\n",
    "response"
   ]
  },
  {
   "cell_type": "code",
   "execution_count": 15,
   "metadata": {},
   "outputs": [
    {
     "data": {
      "text/plain": [
       "{'search': 'Y', 'keyword': '台灣'}"
      ]
     },
     "execution_count": 15,
     "metadata": {},
     "output_type": "execute_result"
    }
   ],
   "source": [
    "# 情境三: 沒有前文脈絡\n",
    "question = '那台灣呢?'\n",
    "response = get_response(question)\n",
    "response"
   ]
  },
  {
   "cell_type": "code",
   "execution_count": 16,
   "metadata": {},
   "outputs": [
    {
     "data": {
      "text/plain": [
       "{'search': 'Y', 'keyword': 'Taiwan air pollution'}"
      ]
     },
     "execution_count": 16,
     "metadata": {},
     "output_type": "execute_result"
    }
   ],
   "source": [
    "# 情境四: 包含前文脈絡\n",
    "assistant_prompt = '印度空污好嚴重'\n",
    "user_question = '那台灣呢?'\n",
    "response = get_response(user_question, assistant_prompt)\n",
    "response"
   ]
  },
  {
   "cell_type": "markdown",
   "metadata": {},
   "source": [
    "#### 2. 問 AI 兩次，讓 AI 自己決定是否要網路搜尋"
   ]
  },
  {
   "cell_type": "code",
   "execution_count": 17,
   "metadata": {},
   "outputs": [],
   "source": [
    "def get_response(user_question: str, system_prompt: str = '', assistant_prompt: str = '') -> str:\n",
    "    # Step 1: 判斷是否需要網路搜尋\n",
    "    messages = [\n",
    "        {\"role\": \"system\", \"content\": \"請用 JSON 回覆\"},\n",
    "        *([{\"role\": \"assistant\", \"content\": assistant_prompt}] if assistant_prompt else []),\n",
    "        {\"role\": \"user\", \"content\": search_prompt_template.format(user_question=user_question)}\n",
    "    ]\n",
    "    completion = get_chatgpt_response(messages, response_format='json_object')\n",
    "    response: dict = json.loads(completion.choices[0].message.content)\n",
    "\n",
    "    # Step 2: 根據判斷結果, 決定是否進行網路搜尋\n",
    "    if response.get('search') == 'Y':\n",
    "        search_keyword = response.get('keyword')\n",
    "        print(f\"進行網路搜尋, 關鍵字: {search_keyword}\")\n",
    "        content = get_google_search_content(search_keyword)\n",
    "    else:\n",
    "        content = \"\"\n",
    "\n",
    "    # Step 3: 以原始問題和網路搜尋結果, 組合成新的問題\n",
    "    user_prompt = content + user_question\n",
    "\n",
    "    # Step 4: 以新的問題, 請 ChatGPT 回答\n",
    "    messages = [\n",
    "        *([{\"role\": \"system\", \"content\": system_prompt}] if system_prompt else []),\n",
    "        *([{\"role\": \"assistant\", \"content\": assistant_prompt}] if assistant_prompt else []),\n",
    "        {\"role\": \"user\", \"content\": user_prompt},\n",
    "    ]\n",
    "    completion = get_chatgpt_response(messages)\n",
    "    response = completion.choices[0].message.content\n",
    "    return response"
   ]
  },
  {
   "cell_type": "code",
   "execution_count": 18,
   "metadata": {},
   "outputs": [
    {
     "data": {
      "text/plain": [
       "'第一個登上月球的人是尼爾·阿姆斯壯(Neil Armstrong)，他於1969年7月20日踏上月球。'"
      ]
     },
     "execution_count": 18,
     "metadata": {},
     "output_type": "execute_result"
    }
   ],
   "source": [
    "system_prompt = '使用繁體中文的小助理，請用 TEXT 回覆'\n",
    "user_question = '第一個登上月球的人是誰?'\n",
    "response = get_response(user_question, system_prompt)\n",
    "response"
   ]
  },
  {
   "cell_type": "code",
   "execution_count": 19,
   "metadata": {},
   "outputs": [
    {
     "name": "stdout",
     "output_type": "stream",
     "text": [
      "進行網路搜尋, 關鍵字: 台灣空氣污染程度\n",
      "網路搜尋目標: 台灣空氣污染程度\n",
      "網路搜尋結果: \n",
      "以下為已發生的事實：\n",
      "\n",
      "標題：台灣空氣污染：實時空氣質量指數地圖\n",
      "摘要：分享: “今天的空氣污染程度如何？查看實時空氣污染的數據- 全球超過100個國家。” https://aqicn.org/here/ ...\n",
      "\n",
      "標題：空氣品質指標- 空氣品質監測網\n",
      "摘要：將當日空氣中臭氧(O3)、細懸浮微粒(PM2.5)、懸浮微粒(PM10)、一氧化碳(CO)、二氧化硫(SO2) 及二氧化氮(NO2) 濃度等數值，以其對人體健康的影響程度，分別換算出不同污染物 ...\n",
      "\n",
      "標題：全球空气质量指数（AQI）排名| IQAir\n",
      "摘要：实时城市空气污染程度排名 小提示图标. 02:17 (当地时间). swiss flag image ... 82, 高雄市, 中国台湾. 38. 696K 关注. 83, 布达佩斯, 匈牙利. 38. 24.5K 关注.\n",
      "\n",
      "標題：空氣品質監測網: 首頁\n",
      "摘要：臺灣空品時空特徵 · 空品之最 · 認識空污感測物聯網. 專欄系列. 名人專欄. 常見 ... 當大氣中風速偏弱時，空氣流動較差，若有空氣污染物排放源，則使當地較易累積污染物。\n",
      "\n",
      "標題：中国台湾空气质量指数（AQI）和中国台湾空气污染| IQAir\n",
      "摘要：Jun 26, 2024 ... 获取您自己的监测仪，亲自测量您城市的空气吧。 成为数据提供者 · 了解数据提供者和数据来源. 实时中国台湾城市空气污染程度排名. #, city, 美国AQI. 1 ...\n",
      "\n",
      "標題：空氣品質指標- 空氣品質改善維護資訊網\n",
      "摘要：臭氧層保護在台灣 · 空氣品質淨化區 · 河川揚塵防制及改善推動 · 中元普度眉角多 ... 雖然不同的人受空氣污染影響的程度是取決於不同的因素，但是不同年齡的人都會受到 ...\n",
      "\n",
      "標題：空氣污染指標(台灣) - 維基百科，自由的百科全書\n",
      "摘要：空氣污染指標為依據監測資料將當日空氣中懸浮微粒(PM10)、二氧化硫(SO2)、二氧化氮(NO2)、一氧化碳 (CO) 及臭氧 (O3) 5種空氣污染物濃度數值，以其對人體健康的影響程度 ...\n",
      "\n",
      "標題：初探臺灣空污、農業與社經條件不平等 - 風險社會與政策研究中心\n",
      "摘要：Sep 11, 2021 ... 2021年在Science Advances的一篇期刊更是指出，美國的PM2.5污染不平均地影響有色人種（Tessum et al., 2021）。因此本篇將探討，臺灣的空氣污染程度與不同 ...\n",
      "\n",
      "標題：空氣品質嚴重惡化警告發布及緊急防制辦法-全國法規資料庫\n",
      "摘要：本辦法依空氣污染防制法（以下簡稱本法）第十四條第四項規定訂定之。 本條文有附件 第2 條. 空氣品質惡化警告等級依污染程度區分為預警（等級細分為初級、中級）及嚴重 ...\n",
      "\n",
      "標題：波多黎各空氣品質指數（AQI）和空氣污染資訊| IQAir\n",
      "摘要：波多黎各的空氣品質. 波多黎各空氣品質指數（AQI）和PM2.5空氣污染. 最近更新於 01:46, 7月5. 分享圖示. 概覽. 波多黎各的污染程度如何？ Taiwan國旗.\n",
      "\n",
      "請依照上述事實回答以下問題。\n",
      "\n"
     ]
    },
    {
     "data": {
      "text/plain": [
       "'根據您提供的信息，台灣也面臨空氣污染的問題。各種空氣品質監測網和資訊站點提供即時的空氣質量指數(AQI)和相關污染物濃度數據，例如臭氧(O3)、細懸浮微粒(PM2.5)、懸浮微粒(PM10)、一氧化碳(CO)、二氧化硫(SO2) 及二氧化氮(NO2)。台灣的各大城市，如高雄市，也出現在全球空氣質量指數排名中，顯示台灣的空氣質量受到廣泛關注。另外，不同的地區和不同的氣象狀況會影響空氣污染物的累積和分布。政府和相關機構也透過法規和政策，努力改善和維護空氣品質。'"
      ]
     },
     "execution_count": 19,
     "metadata": {},
     "output_type": "execute_result"
    }
   ],
   "source": [
    "system_prompt = '使用繁體中文的小助理，請用 TEXT 回覆'\n",
    "assistant_prompt = '印度空污好嚴重'\n",
    "user_question = '那台灣呢?'\n",
    "response = get_response(user_question, system_prompt, assistant_prompt)\n",
    "response"
   ]
  },
  {
   "cell_type": "markdown",
   "metadata": {},
   "source": [
    "#### 3. 用 tool，讓 AI 自己決定是否要網路搜尋\n",
    "Reference: https://cookbook.openai.com/examples/how_to_call_functions_with_chat_models#steps-to-invoke-a-function-call-using-chat-completions-api"
   ]
  },
  {
   "cell_type": "code",
   "execution_count": 20,
   "metadata": {},
   "outputs": [],
   "source": [
    "def get_response(user_question: str, tools_spec: list[dict]) -> str:\n",
    "    # Step 1: Prompt the model with content that may result in model selecting a tool to use.\n",
    "    messages = [{\"role\": \"user\", \"content\": user_question}]\n",
    "\n",
    "    completion = get_chatgpt_response(messages, tools_spec, response_format='text')\n",
    "    assistant_response = completion.choices[0].message\n",
    "\n",
    "    # Append the message to messages for next turn.\n",
    "    messages.append(assistant_response)\n",
    "\n",
    "    # Step 2: Determine if the response from the model includes a function call.\n",
    "    tool_calls = completion.choices[0].message.tool_calls\n",
    "    if tool_calls:\n",
    "        # If true the model will return the name of the function to call and the argument(s).\n",
    "        tool_call = tool_calls[0]\n",
    "        tool_function = globals().get(tool_call.function.name, None)\n",
    "        tool_function_args = json.loads(tool_call.function.arguments)\n",
    "\n",
    "        # Step 3: Call the function and retrieve results. Append the results to the messages for the next turn.\n",
    "        if tool_function:\n",
    "            print(f'===== Calling function \"{tool_call.function.name}\" with arguments {tool_function_args}. =====')\n",
    "            results = tool_function(**tool_function_args)\n",
    "            # Note that messages with role 'tool' must be a response to a preceding message with 'tool_calls'.\n",
    "            messages.append({\"role\": \"tool\", \"content\": results, \"tool_call_id\": tool_call.id, \"name\": tool_call.function.name})\n",
    "\n",
    "            # Step 4: Invoke the chatgpt with the messages to get the response.\n",
    "            completion = get_chatgpt_response(messages)\n",
    "            response = completion.choices[0].message.content\n",
    "        else:\n",
    "            print(f\"[Error] Function {tool_call.function.name} does not exist.\")\n",
    "    else:\n",
    "        response = completion.choices[0].message.content\n",
    "\n",
    "    return response\n"
   ]
  },
  {
   "cell_type": "code",
   "execution_count": 21,
   "metadata": {},
   "outputs": [
    {
     "name": "stdout",
     "output_type": "stream",
     "text": [
      "===== Calling function \"get_google_search_content\" with arguments {'search_target': \"2024 Olympic men's badminton doubles gold medal winner\"}. =====\n",
      "網路搜尋目標: 2024 Olympic men's badminton doubles gold medal winner\n",
      "網路搜尋結果: \n",
      "以下為已發生的事實：\n",
      "\n",
      "標題：Badminton: Taiwan's Lee, Wang retain men's doubles gold | Reuters\n",
      "摘要：15 hours ago ... PARIS, Aug 4 (Reuters) - Taiwan's Lee Yang and Wang Chi-Lin retained their Olympic badminton men's doubles title on Sunday, beating China's ...\n",
      "\n",
      "標題：2024 Paris Olympic badminton pools revealed | NBC Olympics\n",
      "摘要：Jul 15, 2024 ... One half of the reigning women's doubles gold medal ... In Tokyo, Axelsen dethroned 2016 Olympic champion Chen Long in the men's singles division.\n",
      "\n",
      "標題：Paris 2024 badminton: All results, as Chinese Taipei's Lee Yang ...\n",
      "摘要：16 hours ago ... Lee and Wang Chi-lin became the first pair in badminton history to win the men's doubles twice after an intense 21-17, 18-21, 21-19 victory over ...\n",
      "\n",
      "標題：Chinese Taipei takes out China to defend men's doubles badminton ...\n",
      "摘要：15 hours ago ... Earlier in the day, Rio gold medalist Carolina Marin of Spain's Olympic run ended in heartbreaking fashion when she was forced to retire midway ...\n",
      "\n",
      "標題：Badminton: Chen/Jia (CHN) advance to gold medal match\n",
      "摘要：14 hours ago ... Paris 2024 tennis: Italy's Sara Errani and Jasmine Paolini win gold in women's doubles · https://olympics.com/en/paris-2024/live-updates ...\n",
      "\n",
      "標題：2024 Olympics: Grant Fisher medals in 10,000m, Léon Marchand ...\n",
      "摘要：2 days ago ... At the pool, France's breakout star Leon Marchand captured his fourth gold medal of the Games with a win in the men's 200-meter IM. Team USA's ...\n",
      "\n",
      "標題：List of Olympic medalists in badminton - Wikipedia\n",
      "摘要：Indonesia became the second to achieve this feat, stretching from its first gold in the 1992 women's singles to 2020 women's doubles. As of the 2024 Summer ...\n",
      "\n",
      "標題：2024 Olympics live updates: Noah Lyles wins 100m in photo finish ...\n",
      "摘要：5 hours ago ... Even after winning gold in Tokyo, Chinese Taipei duo Yang Lee and Chi-lin Wang were not the favorites to win men's badminton doubles in Paris.\n",
      "\n",
      "標題：Badminton: Knockout draws confirmed\n",
      "摘要：11 hours ago ... Paris 2024 tennis: Italy's Sara Errani and Jasmine Paolini win gold in women's doubles. https://olympics.com/en/paris-2024/live-updates ...\n",
      "\n",
      "標題：Drop your current predictions for 2024 Paris Olympics. : r/badminton\n",
      "摘要：Jun 18, 2024 ... But SYQ remains a big gold medal contender. The Chinese always amp ... But really Men's doubles is too chaotic. WD: Chen/Jia, Baek/Lee ...\n",
      "\n",
      "請依照上述事實回答以下問題。\n",
      "\n"
     ]
    },
    {
     "data": {
      "text/plain": [
       "'2024年奧運男子羽球雙打金牌得主是來自台灣的李洋和王齊麟。'"
      ]
     },
     "execution_count": 21,
     "metadata": {},
     "output_type": "execute_result"
    }
   ],
   "source": [
    "# Define a function specification for the function tool.\n",
    "tools_spec = [\n",
    "    {\n",
    "        \"type\": \"function\",\n",
    "        \"function\": {\n",
    "            \"name\": \"get_google_search_content\",\n",
    "            \"description\": \"當遇到超過時間範圍的資料，利用 Google 取得搜尋結果\",\n",
    "            \"parameters\": {\n",
    "                \"type\": \"object\",\n",
    "                \"properties\": {\n",
    "                    \"search_target\": {\n",
    "                        \"type\": \"string\",\n",
    "                        \"description\": \"要搜尋的關鍵字\",\n",
    "                    },\n",
    "                },\n",
    "                \"required\": [\"search_target\"],\n",
    "            },\n",
    "        },\n",
    "    },\n",
    "]\n",
    "\n",
    "# Invoke the chatgpt to get the response.\n",
    "user_question = '2024 奧運男子羽球雙打金牌得主是誰?'\n",
    "response = get_response(user_question, tools_spec)\n",
    "response"
   ]
  },
  {
   "cell_type": "code",
   "execution_count": 22,
   "metadata": {},
   "outputs": [
    {
     "name": "stdout",
     "output_type": "stream",
     "text": [
      "===== Calling function \"get_pizza_info\" with arguments {'pizza_name': 'Hawaiian'}. =====\n"
     ]
    },
    {
     "data": {
      "text/plain": [
       "'夏威夷披薩的價格為299元。它的配料包括鳳梨、起司、番茄醬以及培根或火腿。夏威夷披薩並非起源於夏威夷，而是由加拿大廚師山姆·檳安普羅斯於1962年發明。'"
      ]
     },
     "execution_count": 22,
     "metadata": {},
     "output_type": "execute_result"
    }
   ],
   "source": [
    "def get_pizza_info(pizza_name: str) -> str:\n",
    "    pizza_info = [\n",
    "        {\n",
    "            \"name\": '夏威夷披薩',\n",
    "            \"price\": \"299\",\n",
    "            \"description\": \"夏威夷披薩是以鳳梨、起司、番茄醬以及培根或火腿為配料的一種披薩。夏威夷披薩並非起源於夏威夷，而是由加拿大廚師山姆·潘諾普洛斯於1962年發明。\"\n",
    "        },\n",
    "        {\n",
    "            \"name\": '瑪格麗特披薩',\n",
    "            \"price\": \"319\",\n",
    "            \"description\": \"瑪格麗特披薩是義大利的一種披薩餅，也是拿坡里披薩的代表。義大利傳說認為瑪格麗特披薩這個名字是來自於義大利瑪格麗特王后。由於瑪格麗特王后認為這種披薩上「綠色的羅勒、白色的莫札瑞拉起司、紅色的番茄醬好比義大利國旗」，對這種披薩十分鍾愛，因此用自己的名字命名了這款披薩。 \"\n",
    "        },\n",
    "        {\n",
    "            \"name\": '章魚小丸子披薩',\n",
    "            \"price\": \"346\",\n",
    "            \"description\": \"和風章魚燒，從日本關西料理章魚燒中加入巧思變成經典口味的披薩\"\n",
    "        }\n",
    "    ]\n",
    "    return json.dumps(pizza_info)\n",
    "\n",
    "\n",
    "# Define a function specification for the function tool.\n",
    "tools_spec = [\n",
    "    {\n",
    "        \"type\": \"function\",\n",
    "        \"function\": {\n",
    "            \"name\": \"get_pizza_info\",\n",
    "            \"description\": \"這是一間披薩店，提供各種關於披薩的資訊\",\n",
    "            \"parameters\": {\n",
    "                \"type\": \"object\",\n",
    "                \"properties\": {\n",
    "                    \"pizza_name\": {\n",
    "                        \"type\": \"string\",\n",
    "                        \"description\": \"The name of the pizza, e.g. Salami\",\n",
    "                    },\n",
    "                },\n",
    "                \"required\": [\"pizza_name\"],\n",
    "            },\n",
    "        },\n",
    "    },\n",
    "]\n",
    "\n",
    "# Invoke the chatgpt to get the response.\n",
    "user_question = '請問夏威夷披薩多少錢？裡有什麼配料?'\n",
    "response = get_response(user_question, tools_spec)\n",
    "response"
   ]
  }
 ],
 "metadata": {
  "kernelspec": {
   "display_name": ".venv",
   "language": "python",
   "name": "python3"
  },
  "language_info": {
   "codemirror_mode": {
    "name": "ipython",
    "version": 3
   },
   "file_extension": ".py",
   "mimetype": "text/x-python",
   "name": "python",
   "nbconvert_exporter": "python",
   "pygments_lexer": "ipython3",
   "version": "3.9.6"
  }
 },
 "nbformat": 4,
 "nbformat_minor": 2
}

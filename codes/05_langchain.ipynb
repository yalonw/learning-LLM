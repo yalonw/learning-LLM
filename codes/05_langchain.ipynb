{
 "cells": [
  {
   "cell_type": "code",
   "execution_count": 2,
   "metadata": {},
   "outputs": [],
   "source": [
    "import os\n",
    "\n",
    "from dotenv import load_dotenv\n",
    "from langchain_openai import OpenAI, AzureOpenAI, AzureChatOpenAI\n",
    "from langchain_core.messages import HumanMessage, SystemMessage, AIMessage\n",
    "from langchain_core.prompts import ChatPromptTemplate\n",
    "from langchain_core.output_parsers import StrOutputParser\n",
    "from langchain_core.chat_history import InMemoryChatMessageHistory, BaseChatMessageHistory\n",
    "from langchain_core.runnables.history import RunnableWithMessageHistory\n",
    "from langchain.agents import AgentType, initialize_agent, load_tools"
   ]
  },
  {
   "cell_type": "markdown",
   "metadata": {},
   "source": [
    "### Build a LLM application with LangChain Framework"
   ]
  },
  {
   "cell_type": "markdown",
   "metadata": {},
   "source": [
    "#### 1. Set the environment variables."
   ]
  },
  {
   "cell_type": "code",
   "execution_count": 3,
   "metadata": {},
   "outputs": [],
   "source": [
    "load_dotenv()\n",
    "\n",
    "os.environ[\"GOOGLE_CSE_ID\"] = os.getenv(\"GOOGLE_SEARCH_ENGINE_ID\")\n",
    "os.environ[\"GOOGLE_API_KEY\"] = os.getenv(\"GOOGLE_SEARCH_API_KEY\")"
   ]
  },
  {
   "cell_type": "markdown",
   "metadata": {},
   "source": [
    "#### 2. Use the model directly.\n",
    "Reference: https://python.langchain.com/v0.2/docs/tutorials/llm_chain/"
   ]
  },
  {
   "cell_type": "code",
   "execution_count": 4,
   "metadata": {},
   "outputs": [],
   "source": [
    "# Instantiate a chat model and invoke it with the messages.\n",
    "# llm = AzureOpenAI(deployment_name=\"gpt-35-turbo\")\n",
    "# llm.invoke(\"Tell me a joke\")"
   ]
  },
  {
   "cell_type": "code",
   "execution_count": 5,
   "metadata": {},
   "outputs": [
    {
     "data": {
      "text/plain": [
       "'NBA 的英文全名是 National Basketball Association，中文為「美國職業籃球聯盟」。它是美國最高級別的職業籃球聯賽，也是全球最具影響力和知名度的籃球聯賽之一。'"
      ]
     },
     "execution_count": 5,
     "metadata": {},
     "output_type": "execute_result"
    }
   ],
   "source": [
    "user_prompt = \"回答時，使用繁體中文和台灣詞語解釋, 問題: NBA 的英文全名是？\"\n",
    "\n",
    "model = AzureChatOpenAI(deployment_name=\"gpt-35-turbo-120\")\n",
    "messages = [HumanMessage(content=user_prompt)]\n",
    "completion = model.invoke(messages)\n",
    "completion.content"
   ]
  },
  {
   "cell_type": "code",
   "execution_count": 7,
   "metadata": {},
   "outputs": [
    {
     "data": {
      "text/plain": [
       "'NBA 的英文全名是 National Basketball Association，翻譯成繁體中文是「美國職業籃球聯賽」，是美國最高級別的職業籃球聯賽。'"
      ]
     },
     "execution_count": 7,
     "metadata": {},
     "output_type": "execute_result"
    }
   ],
   "source": [
    "model.predict(user_prompt)"
   ]
  },
  {
   "cell_type": "markdown",
   "metadata": {},
   "source": [
    "#### 3. Add prompt templates.\n",
    "Use to create flexible templated prompts for chat models."
   ]
  },
  {
   "cell_type": "code",
   "execution_count": 8,
   "metadata": {},
   "outputs": [
    {
     "data": {
      "text/plain": [
       "'Have you eaten yet?'"
      ]
     },
     "execution_count": 8,
     "metadata": {},
     "output_type": "execute_result"
    }
   ],
   "source": [
    "prompt_template = ChatPromptTemplate.from_messages([\n",
    "    (\"system\", \"Translate the following into {language}:\"),\n",
    "    (\"user\", \"{text}\"),\n",
    "])\n",
    "messages = prompt_template.invoke({\n",
    "    \"language\": \"英文\",\n",
    "    \"text\": \"你吃飽了嗎？\"\n",
    "})\n",
    "completion = model.invoke(messages)\n",
    "completion.content"
   ]
  },
  {
   "cell_type": "markdown",
   "metadata": {},
   "source": [
    "#### 4. Chain together components with LCEL."
   ]
  },
  {
   "cell_type": "code",
   "execution_count": 9,
   "metadata": {},
   "outputs": [
    {
     "data": {
      "text/plain": [
       "'Have you eaten yet?'"
      ]
     },
     "execution_count": 9,
     "metadata": {},
     "output_type": "execute_result"
    }
   ],
   "source": [
    "chain = prompt_template | model | StrOutputParser()\n",
    "chain.invoke({\n",
    "    \"language\": \"英文\",\n",
    "    \"text\": \"你吃飽了嗎？\"\n",
    "})"
   ]
  },
  {
   "cell_type": "markdown",
   "metadata": {},
   "source": [
    "#### 5.  Incorporate a memory of previous messages to sustain a stateful conversation.\n",
    "Reference: https://python.langchain.com/v0.2/docs/tutorials/chatbot/#message-history"
   ]
  },
  {
   "cell_type": "code",
   "execution_count": 10,
   "metadata": {},
   "outputs": [
    {
     "name": "stdout",
     "output_type": "stream",
     "text": [
      "User: 你好，我叫寶寶，今年三歲，最喜歡吃蘋果。\n",
      "AI: 你好，寶寶！很高興認識你。三歲是個很可愛的年齡呢！喜歡吃蘋果是一件很健康的事情，蘋果含有豐富的維生素和纖維，對身體很有益處呢。你喜歡吃紅蘋果還是綠蘋果呢？\n",
      "User: 我喜歡紅蘋果。我現在想吃蛋糕，你有推薦的口味嗎？\n",
      "AI: 喜歡紅蘋果的你真是個聰明的寶寶呢！紅蘋果的口感和甜度都很適合小朋友喜歡呢。\n",
      "\n",
      "關於蛋糕的推薦，有很多口味可以選擇哦！你喜歡巧克力、草莓、香蕉還是檸檬味的呢？每一種口味都有自己獨特的風味，我可以為你介紹更多細節，幫助你做出選擇。\n",
      "User: 那我要插上幾歲的蠟燭呢？\n",
      "AI: 嗯，通常在生日蛋糕上插上的蠟燭數字代表著你的年齡。因為你告訴我你今年三歲，所以我們可以在蛋糕上插上數字3的蠟燭，這樣就可以慶祝你的三歲生日囉！你有想要特別的蠟燭顏色或形狀嗎？\n"
     ]
    }
   ],
   "source": [
    "store = {}\n",
    "\n",
    "def get_session_history(session_id: str) -> BaseChatMessageHistory:\n",
    "    if session_id not in store:\n",
    "        store[session_id] = InMemoryChatMessageHistory()\n",
    "    return store[session_id]\n",
    "\n",
    "\n",
    "prompt_template = ChatPromptTemplate.from_messages([\n",
    "    (\"system\", \"以下是使用者與 AI 之間友好的對話， AI 很健談且能根據上下文提供具體細節，如果 AI 不知道問題的答案會如實說不知道\"),\n",
    "    (\"placeholder\", \"{chat_history}\"),\n",
    "    (\"human\", \"{input}\"),\n",
    "])\n",
    "\n",
    "chain = prompt_template | model | StrOutputParser()\n",
    "\n",
    "wrapped_chain = RunnableWithMessageHistory(\n",
    "    chain,\n",
    "    get_session_history,\n",
    "    history_messages_key=\"chat_history\",\n",
    ")\n",
    "\n",
    "\n",
    "session_id = \"my_session_id\"\n",
    "\n",
    "while True:\n",
    "    user_prompt = input(\"User:\")\n",
    "    if not user_prompt.strip():\n",
    "        break\n",
    "    print(f'User: {user_prompt}')\n",
    "\n",
    "    assistant_prompt = wrapped_chain.invoke(\n",
    "        {\"input\": user_prompt},\n",
    "        config={\"configurable\": {\"session_id\": session_id}},\n",
    "    )\n",
    "    print(f'AI: {assistant_prompt}')"
   ]
  },
  {
   "cell_type": "code",
   "execution_count": 11,
   "metadata": {},
   "outputs": [
    {
     "data": {
      "text/plain": [
       "[HumanMessage(content='你好，我叫寶寶，今年三歲，最喜歡吃蘋果。'),\n",
       " AIMessage(content='你好，寶寶！很高興認識你。三歲是個很可愛的年齡呢！喜歡吃蘋果是一件很健康的事情，蘋果含有豐富的維生素和纖維，對身體很有益處呢。你喜歡吃紅蘋果還是綠蘋果呢？'),\n",
       " HumanMessage(content='我喜歡紅蘋果。我現在想吃蛋糕，你有推薦的口味嗎？'),\n",
       " AIMessage(content='喜歡紅蘋果的你真是個聰明的寶寶呢！紅蘋果的口感和甜度都很適合小朋友喜歡呢。\\n\\n關於蛋糕的推薦，有很多口味可以選擇哦！你喜歡巧克力、草莓、香蕉還是檸檬味的呢？每一種口味都有自己獨特的風味，我可以為你介紹更多細節，幫助你做出選擇。'),\n",
       " HumanMessage(content='那我要插上幾歲的蠟燭呢？'),\n",
       " AIMessage(content='嗯，通常在生日蛋糕上插上的蠟燭數字代表著你的年齡。因為你告訴我你今年三歲，所以我們可以在蛋糕上插上數字3的蠟燭，這樣就可以慶祝你的三歲生日囉！你有想要特別的蠟燭顏色或形狀嗎？')]"
      ]
     },
     "execution_count": 11,
     "metadata": {},
     "output_type": "execute_result"
    }
   ],
   "source": [
    "chat_history = get_session_history(session_id)\n",
    "chat_history.messages"
   ]
  },
  {
   "cell_type": "markdown",
   "metadata": {},
   "source": [
    "#### 6. Use tools or components.\n",
    "\n",
    "Useful for when you need to ...\n",
    "- search the web, use the \"[google-search](https://python.langchain.com/v0.2/docs/integrations/tools/google_search/)\" tool\n",
    "- solve math problems, use the \"llm-math\" tool\n",
    "\n",
    "Reference: https://python.langchain.com/v0.2/docs/integrations/tools/search_tools/#googlesearchapiwrapper"
   ]
  },
  {
   "cell_type": "code",
   "execution_count": 14,
   "metadata": {},
   "outputs": [
    {
     "name": "stdout",
     "output_type": "stream",
     "text": [
      "\n",
      "\n",
      "\u001b[1m> Entering new AgentExecutor chain...\u001b[0m\n",
      "\u001b[32;1m\u001b[1;3mI don't have the answer to this question in my existing knowledge. I should use the google_search tool to find the information.\n",
      "Action: google_search\n",
      "Action Input: \"2023 金馬獎影帝 是誰\"\u001b[0m\n",
      "Observation: \u001b[36;1m\u001b[1;3mNov 25, 2023 ... 金馬獎女主角林品彤！金馬影帝吳慷仁擊敗阮經天、許光漢和林柏宏。金馬60林品彤成為最年輕金馬影后打敗陸小芬！金馬60得獎 ... 是電影《老狐狸》，抱回金馬 ... Nov 25, 2023 ... 【2023 金馬獎】金馬60 最新得獎名單一次看：吳慷仁首次入圍就奪影帝、12 歲林品彤成最年輕影后！ · 洪昰顥《周處除三害》（得獎） · 邱立偉、王俊雄《八戒》 ... Mar 1, 2024 ... 第60屆2023金馬獎頒獎典禮將於11月25日（六）於台北國父紀念館舉行，而2023金馬獎入圍名單也將熱騰騰曝光，其中備受矚目的，則是許光漢與林柏宏都以《關於 ... 金馬獎2023》金馬60得獎名單：影帝吳慷仁、12歲影后林品彤 · 入圍暨得獎名單 · 典禮時間地點 · 直播／轉播平台 · 金馬獎主持人 · 表演嘉賓 · 頒獎嘉賓. Nov 26, 2023 ... 2023金馬獎頒獎典禮11 月25 日在國父紀念館盛大舉行，60 屆金馬獎 ... 是兩大男主角許光漢、林柏宏雙雙提名金馬影帝，競爭激烈，究竟獎落誰家 獲獎者有「金馬影帝」之讚譽。獎項於1962年第1屆金馬獎首度頒發，獲獎者是主演《手槍》的王引。目前，獎項提名人選由評審委員透過公開討論、不記名投票方式產生，獲獎 ... Nov 26, 2023 ... 2023金馬獎（金馬60）順利落幕，金馬影帝吳慷仁、金馬影后林品彤、女配角方志友等都是首次入圍就拿獎。典禮後，本屆評審團主席李安導演、金馬執委會 ... Nov 25, 2023 ... 恭喜吳慷仁獲得2023年金馬影帝！今年8月吳慷仁以《富都青年》奪得第17屆西寧FIRST青年電影展「主競賽單元最佳演員獎」， ... Nov 26, 2023 ... 最佳男配角為《老狐狸》陳慕義，他在電影中扮演一個唯利是從的狠角色，非常精湛；而女配角為《本日公休》的方志友，她的得獎幾乎是大爆冷門，所有的預測 ... Nov 26, 2023 ... 60屆金馬獎在週六（25日）盛大落幕了♡雖然你知道影帝影后是誰，但其他的你也知道嗎？想要跟上話題就不能沒有金馬，趕快來看看2023金馬獎得獎名單吧♡ ...\u001b[0m\n",
      "Thought:\u001b[32;1m\u001b[1;3mI now know the final answer\n",
      "Final Answer: 2023金馬獎影帝是吳慷仁 (Wu Kang-jen)\u001b[0m\n",
      "\n",
      "\u001b[1m> Finished chain.\u001b[0m\n",
      "Prompt: 請問 2023 金馬獎影帝是誰？\n",
      "Completion: 2023金馬獎影帝是吳慷仁 (Wu Kang-jen)\n"
     ]
    }
   ],
   "source": [
    "user_prompt = \"請問 2023 金馬獎影帝是誰？\"\n",
    "\n",
    "agent = initialize_agent(\n",
    "    tools=load_tools(tool_names=[\"google-search\"], llm=model),\n",
    "    llm=model,\n",
    "    agent=AgentType.ZERO_SHOT_REACT_DESCRIPTION,\n",
    "    verbose=True\n",
    ")\n",
    "assistant_prompt = agent.run(user_prompt)\n",
    "\n",
    "print(f'Prompt: {user_prompt}')\n",
    "print(f'Completion: {assistant_prompt}')"
   ]
  },
  {
   "cell_type": "code",
   "execution_count": 16,
   "metadata": {},
   "outputs": [
    {
     "name": "stdout",
     "output_type": "stream",
     "text": [
      "\n",
      "\n",
      "\u001b[1m> Entering new AgentExecutor chain...\u001b[0m\n",
      "\u001b[32;1m\u001b[1;3mI should use the Calculator tool to add 1 and 4.\n",
      "Action: Calculator\n",
      "Action Input: 1 + 4\u001b[0m\n",
      "Observation: \u001b[36;1m\u001b[1;3mAnswer: 5\u001b[0m\n",
      "Thought:\u001b[32;1m\u001b[1;3mThe sum of 1 and 4 is 5.\n",
      "Final Answer: 5\u001b[0m\n",
      "\n",
      "\u001b[1m> Finished chain.\u001b[0m\n",
      "Prompt: 請問  1 + 4 = ?\n",
      "Completion: 5\n"
     ]
    }
   ],
   "source": [
    "user_prompt = \"請問  1 + 4 = ?\"\n",
    "\n",
    "agent = initialize_agent(\n",
    "    tools=load_tools(tool_names=['llm-math'], llm=model),\n",
    "    llm=model,\n",
    "    agent=AgentType.ZERO_SHOT_REACT_DESCRIPTION,\n",
    "    verbose=True\n",
    ")\n",
    "assistant_prompt = agent.run(user_prompt)\n",
    "\n",
    "print(f'Prompt: {user_prompt}')\n",
    "print(f'Completion: {assistant_prompt}')"
   ]
  }
 ],
 "metadata": {
  "kernelspec": {
   "display_name": ".venv",
   "language": "python",
   "name": "python3"
  },
  "language_info": {
   "codemirror_mode": {
    "name": "ipython",
    "version": 3
   },
   "file_extension": ".py",
   "mimetype": "text/x-python",
   "name": "python",
   "nbconvert_exporter": "python",
   "pygments_lexer": "ipython3",
   "version": "3.9.6"
  }
 },
 "nbformat": 4,
 "nbformat_minor": 2
}

{
 "cells": [
  {
   "cell_type": "code",
   "execution_count": 7,
   "metadata": {},
   "outputs": [],
   "source": [
    "import os\n",
    "\n",
    "from dotenv import load_dotenv\n",
    "from openai import OpenAI, AzureOpenAI\n",
    "import requests\n"
   ]
  },
  {
   "cell_type": "code",
   "execution_count": 2,
   "metadata": {},
   "outputs": [
    {
     "data": {
      "text/plain": [
       "True"
      ]
     },
     "execution_count": 2,
     "metadata": {},
     "output_type": "execute_result"
    }
   ],
   "source": [
    "load_dotenv()"
   ]
  },
  {
   "cell_type": "code",
   "execution_count": 3,
   "metadata": {},
   "outputs": [],
   "source": [
    "# client = OpenAI(\n",
    "#   api_key = os.getenv(\"OPENAI_API_KEY\"),\n",
    "# )\n",
    "\n",
    "client = AzureOpenAI(\n",
    "    api_key=os.getenv(\"AZURE_OPENAI_API_KEY\"),\n",
    "    api_version=os.getenv(\"AZURE_OPENAI_API_VERSION\"),\n",
    "    azure_endpoint=os.getenv(\"AZURE_OPENAI_ENDPOINT\"),\n",
    ")"
   ]
  },
  {
   "cell_type": "markdown",
   "metadata": {},
   "source": [
    "### Empower ChatGPT with Google Search skill.\n",
    "\n",
    "Custom Search JSON API \n",
    "- [Create the Programmable Search Engine](https://programmablesearchengine.google.com/controlpanel/all)\n",
    "- [Get an API key](https://developers.google.com/custom-search/v1/overview#api_key)\n",
    "- Custom Search JSON API provides 100 search queries per day for free.\n",
    "\n",
    "Reference: https://developers.google.com/custom-search/v1/overview"
   ]
  },
  {
   "cell_type": "code",
   "execution_count": 4,
   "metadata": {},
   "outputs": [],
   "source": [
    "def google_search(query: str) -> list[dict]:\n",
    "    \"\"\" Google search API\n",
    "\n",
    "        Return a dict of custom search result, see more detail at\n",
    "        https://developers.google.com/custom-search/v1/reference/rest/v1/Search#result\n",
    "    \"\"\"\n",
    "    url = 'https://www.googleapis.com/customsearch/v1'\n",
    "    params = {\n",
    "        'q': query,\n",
    "        'key': os.getenv(\"GOOGLE_SEARCH_API_KEY\"),\n",
    "        'cx': os.getenv(\"GOOGLE_SEARCH_ENGINE_ID\"),\n",
    "    }\n",
    "    response = requests.get(url, params=params)\n",
    "    results = response.json().get('items', [])\n",
    "    return results"
   ]
  },
  {
   "cell_type": "code",
   "execution_count": 5,
   "metadata": {},
   "outputs": [
    {
     "name": "stdout",
     "output_type": "stream",
     "text": [
      "Prompt: 請問 2023 年金馬獎最佳男配角是誰？\n",
      "Completion: 不知道。\n",
      "No answer from AI model, using Google search instead ...\n",
      "Completion: 根據上述資料，2023年金馬獎最佳男配角得主是陳慕義（出演《老狐狸》）。\n"
     ]
    }
   ],
   "source": [
    "system_prompt = \"當不確定使用者的問題時，請回答「不知道」。\"\n",
    "user_prompt = \"請問 2023 年金馬獎最佳男配角是誰？\"\n",
    "\n",
    "completion = client.chat.completions.create(\n",
    "  model=\"gpt-35-turbo-120\",\n",
    "  messages=[\n",
    "    {\"role\": \"system\", \"content\": system_prompt},\n",
    "    {\"role\": \"user\", \"content\": user_prompt}\n",
    "  ]\n",
    ")\n",
    "response = completion.choices[0].message.content\n",
    "\n",
    "print(f'Prompt: {user_prompt}')\n",
    "print(f'Completion: {response}')\n",
    "\n",
    "if '不知道' in response:\n",
    "    print('No answer from AI model, using Google search instead ...')\n",
    "\n",
    "    system_prompt = \"以下為已發生的事實：\\n\\n\"\n",
    "    results = google_search(user_prompt)\n",
    "    for item in results:\n",
    "        system_prompt += f\"標題：{item['title']}\\n摘要：{item['snippet']}\\n\\n\"\n",
    "    system_prompt += \"請依照上述事實回答以下問題。\\n\"\n",
    "\n",
    "    completion = client.chat.completions.create(\n",
    "        model=\"gpt-35-turbo-120\",\n",
    "        messages=[\n",
    "            {\"role\": \"system\", \"content\": system_prompt},\n",
    "            {\"role\": \"user\", \"content\": user_prompt}\n",
    "        ]\n",
    "    )\n",
    "    response = completion.choices[0].message.content\n",
    "\n",
    "    print(f'Completion: {response}')\n"
   ]
  },
  {
   "cell_type": "code",
   "execution_count": 6,
   "metadata": {},
   "outputs": [
    {
     "name": "stdout",
     "output_type": "stream",
     "text": [
      "以下為已發生的事實：\n",
      "\n",
      "標題：【金馬60】2023金馬獎得獎名單！\n",
      "摘要：Nov 25, 2023 ... 金馬60「最佳新演員」得獎者. 金馬得獎金馬60 2023金馬男主角女主角 FB@但願人長久.\n",
      "\n",
      "標題：【金馬60】2023金馬獎得獎名單！吳慷仁拿下最佳男主角，林品彤是 ...\n",
      "摘要：Nov 25, 2023 ... 金馬60得獎名單一次看！﻿2023年金馬獎﻿討論度最高的就是最佳男主角阮經天、吳慷仁、許光漢、王柏傑、林柏宏，另外最佳女主角陸小芬、﻿余香凝、﻿ ...\n",
      "\n",
      "標題：金馬獎最佳男配角- 维基百科，自由的百科全书\n",
      "摘要：金馬獎最佳男配角是由財團法人中華民國電影事業發展基金會的臺北金馬影展執行 ... 2023年. 官方网站, www.goldenhorse.org.tw. 电视／电台转播. 電視網, 詳見轉播單位.\n",
      "\n",
      "標題：【2023金馬獎】入圍名單！許光漢林柏宏搶影帝，關於我和鬼爭最佳 ...\n",
      "摘要：Mar 1, 2024 ... 2023金馬獎入圍名單亮點. 最佳劇情片; 最佳導演; 最佳新導演; 最佳男主角; 最佳女主角; 最佳男配角; 最佳女配角; 最佳新演員. 2023金馬獎完整入圍名單出爐.\n",
      "\n",
      "標題：金马奖最佳男配角- 维基百科，自由的百科全书\n",
      "摘要：金马奖最佳男配角是 ... 中华民国（台湾）. 主办单位, 财团法人中华民国电影事业发展基金会 · 台北金马影展执行委员会. 奖励, 金马奖奖座. 首次颁发, 1962年. 最近颁发, 2023 ...\n",
      "\n",
      "標題：【2023 金馬獎】金馬60 最佳男配角入圍者分析：陳澤耀《富都青年 ...\n",
      "摘要：Nov 13, 2023 ... 【2023 金馬獎】金馬60「最佳男配角」激烈戰況不輸男主角：男團成員突破偶像框架呼聲高、11 歲小演員超齡表現賺人熱淚！ By Nancy.Chen. 2023年11月13日.\n",
      "\n",
      "標題：2023金馬獎得獎名單一覽！吳慷仁是最佳男主角、天才少女「林品彤 ...\n",
      "摘要：Nov 26, 2023 ... 李鴻其《愛是一把槍》 孫杰《大山來了》. 金馬60得獎名單：最佳男配角. 得獎著：陳慕義《老狐狸》. 陳澤耀《富都青年》 黃梓樂《年少日記》 陳慕義 ...\n",
      "\n",
      "標題：無影無蹤- 【2023金馬獎「最佳男主角、男配角」戰況：男主五帥之爭 ...\n",
      "摘要：Nov 23, 2023 ... 但這也可能是導演不希望在角色設定上用力過猛。飾演亡魂的林柏宏在片中既要搞笑，又要處理與男友與父親的感情線，表現都深具說服力。\n",
      "\n",
      "標題：【2023金馬獎】金馬60 得獎名單一覽！12歲林品彤成史上年紀最小 ...\n",
      "摘要：Nov 26, 2023 ... 5.2023金馬獎得獎名單：最佳新演員. Winner：謝咏欣／但願人長久. 「謝謝每一位工作人員和大家很認真地參與，讓我第一次 ...\n",
      "\n",
      "標題：老狐狸》陳慕義「教父級」演技出線搶男配；春風殺進最佳新演員 ...\n",
      "摘要：Oct 3, 2023 ... ... 金馬獎最佳男配角是討論最多輪的獎項， ... 入圍感言、遺珠一次看| 金馬60. Yahoo奇摩電影戲劇編輯部. 更新時間： 2023年10月3日.\n",
      "\n",
      "請依照上述事實回答以下問題。\n",
      "\n"
     ]
    }
   ],
   "source": [
    "print(system_prompt)"
   ]
  }
 ],
 "metadata": {
  "kernelspec": {
   "display_name": ".venv",
   "language": "python",
   "name": "python3"
  },
  "language_info": {
   "codemirror_mode": {
    "name": "ipython",
    "version": 3
   },
   "file_extension": ".py",
   "mimetype": "text/x-python",
   "name": "python",
   "nbconvert_exporter": "python",
   "pygments_lexer": "ipython3",
   "version": "3.9.6"
  }
 },
 "nbformat": 4,
 "nbformat_minor": 2
}
